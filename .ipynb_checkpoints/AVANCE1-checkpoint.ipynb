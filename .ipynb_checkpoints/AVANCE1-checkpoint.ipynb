{
 "cells": [
  {
   "cell_type": "markdown",
   "metadata": {},
   "source": [
    "### Hemos logrado crear un repositorio y aprenderemos a crear branchs"
   ]
  },
  {
   "cell_type": "code",
   "execution_count": 2,
   "metadata": {},
   "outputs": [
    {
     "name": "stdout",
     "output_type": "stream",
     "text": [
      "Enter Limit of series: 10\n",
      "0   1   1   2   3   5   8   13   21   34   55   89 "
     ]
    }
   ],
   "source": [
    "a = 0\n",
    "b = 1\n",
    "n = 1\n",
    "l = int(input(\"Enter Limit of series: \"))\n",
    "print(a, \" \" ,b , end=\" \")\n",
    "while n<=l:\n",
    "        val = a + b\n",
    "        print(\" \" , val, end=\" \")\n",
    "        a = b\n",
    "        b = val\n",
    "        n = n + 1\n"
   ]
  },
  {
   "cell_type": "code",
   "execution_count": 4,
   "metadata": {},
   "outputs": [
    {
     "data": {
      "text/plain": [
       "int"
      ]
     },
     "execution_count": 4,
     "metadata": {},
     "output_type": "execute_result"
    }
   ],
   "source": [
    "# TIPOS DE DATOS \n",
    "a = 5\n",
    "type(a)"
   ]
  },
  {
   "cell_type": "code",
   "execution_count": 5,
   "metadata": {},
   "outputs": [
    {
     "data": {
      "text/plain": [
       "float"
      ]
     },
     "execution_count": 5,
     "metadata": {},
     "output_type": "execute_result"
    }
   ],
   "source": [
    "a = 5.5\n",
    "type(a)"
   ]
  },
  {
   "cell_type": "code",
   "execution_count": 11,
   "metadata": {},
   "outputs": [
    {
     "name": "stdout",
     "output_type": "stream",
     "text": [
      "Valor de v1 = True y v2 = False\n"
     ]
    }
   ],
   "source": [
    "v1 = True\n",
    "v2 = False\n",
    "type(v1)\n",
    "\n",
    "print(f\"Valor de v1 = {v1} y v2 = {v2}\")"
   ]
  },
  {
   "cell_type": "code",
   "execution_count": 7,
   "metadata": {},
   "outputs": [
    {
     "data": {
      "text/plain": [
       "str"
      ]
     },
     "execution_count": 7,
     "metadata": {},
     "output_type": "execute_result"
    }
   ],
   "source": [
    "a1 = \"asfdadgfdgh\"\n",
    "type(a1)\n"
   ]
  },
  {
   "cell_type": "code",
   "execution_count": 13,
   "metadata": {},
   "outputs": [
    {
     "data": {
      "text/plain": [
       "True"
      ]
     },
     "execution_count": 13,
     "metadata": {},
     "output_type": "execute_result"
    }
   ],
   "source": [
    "'Hola' == 'Hola'\n"
   ]
  },
  {
   "cell_type": "code",
   "execution_count": 14,
   "metadata": {},
   "outputs": [
    {
     "data": {
      "text/plain": [
       "True"
      ]
     },
     "execution_count": 14,
     "metadata": {},
     "output_type": "execute_result"
    }
   ],
   "source": [
    "'Hola' != 'Adios'"
   ]
  },
  {
   "cell_type": "code",
   "execution_count": 15,
   "metadata": {},
   "outputs": [
    {
     "data": {
      "text/plain": [
       "True"
      ]
     },
     "execution_count": 15,
     "metadata": {},
     "output_type": "execute_result"
    }
   ],
   "source": [
    "# Menor o igual que\n",
    "1 <= 4"
   ]
  },
  {
   "cell_type": "code",
   "execution_count": 16,
   "metadata": {},
   "outputs": [
    {
     "data": {
      "text/plain": [
       "True"
      ]
     },
     "execution_count": 16,
     "metadata": {},
     "output_type": "execute_result"
    }
   ],
   "source": [
    "# Mayor o igual que\n",
    "1 >= 1 "
   ]
  },
  {
   "cell_type": "code",
   "execution_count": 17,
   "metadata": {
    "scrolled": true
   },
   "outputs": [
    {
     "data": {
      "text/plain": [
       "False"
      ]
     },
     "execution_count": 17,
     "metadata": {},
     "output_type": "execute_result"
    }
   ],
   "source": [
    "1 > 2 "
   ]
  },
  {
   "cell_type": "code",
   "execution_count": 18,
   "metadata": {},
   "outputs": [],
   "source": [
    " import pandas as pd "
   ]
  },
  {
   "cell_type": "code",
   "execution_count": 20,
   "metadata": {},
   "outputs": [
    {
     "data": {
      "text/html": [
       "<div>\n",
       "<style scoped>\n",
       "    .dataframe tbody tr th:only-of-type {\n",
       "        vertical-align: middle;\n",
       "    }\n",
       "\n",
       "    .dataframe tbody tr th {\n",
       "        vertical-align: top;\n",
       "    }\n",
       "\n",
       "    .dataframe thead th {\n",
       "        text-align: right;\n",
       "    }\n",
       "</style>\n",
       "<table border=\"1\" class=\"dataframe\">\n",
       "  <thead>\n",
       "    <tr style=\"text-align: right;\">\n",
       "      <th></th>\n",
       "      <th>DISTRITOS</th>\n",
       "      <th>LUGARES</th>\n",
       "      <th>EDADES</th>\n",
       "      <th>Unnamed: 3</th>\n",
       "      <th>Unnamed: 4</th>\n",
       "      <th>Unnamed: 5</th>\n",
       "      <th>Unnamed: 6</th>\n",
       "      <th>Unnamed: 7</th>\n",
       "      <th>SABEN LEER</th>\n",
       "      <th>Unnamed: 9</th>\n",
       "      <th>...</th>\n",
       "      <th>Unnamed: 30</th>\n",
       "      <th>Unnamed: 31</th>\n",
       "      <th>NACIONALIDAD</th>\n",
       "      <th>Unnamed: 33</th>\n",
       "      <th>Unnamed: 34</th>\n",
       "      <th>Unnamed: 35</th>\n",
       "      <th>RAZAS</th>\n",
       "      <th>Unnamed: 37</th>\n",
       "      <th>Unnamed: 38</th>\n",
       "      <th>Unnamed: 39</th>\n",
       "    </tr>\n",
       "  </thead>\n",
       "  <tbody>\n",
       "    <tr>\n",
       "      <th>0</th>\n",
       "      <td>NaN</td>\n",
       "      <td>NaN</td>\n",
       "      <td>NaN</td>\n",
       "      <td>NaN</td>\n",
       "      <td>NaN</td>\n",
       "      <td>NaN</td>\n",
       "      <td>NaN</td>\n",
       "      <td>NaN</td>\n",
       "      <td>NaN</td>\n",
       "      <td>NaN</td>\n",
       "      <td>...</td>\n",
       "      <td>NaN</td>\n",
       "      <td>NaN</td>\n",
       "      <td>NaN</td>\n",
       "      <td>NaN</td>\n",
       "      <td>NaN</td>\n",
       "      <td>NaN</td>\n",
       "      <td>NaN</td>\n",
       "      <td>NaN</td>\n",
       "      <td>NaN</td>\n",
       "      <td>NaN</td>\n",
       "    </tr>\n",
       "    <tr>\n",
       "      <th>1</th>\n",
       "      <td>NaN</td>\n",
       "      <td>NaN</td>\n",
       "      <td>De 4 a 6 años</td>\n",
       "      <td>NaN</td>\n",
       "      <td>NaN</td>\n",
       "      <td>De 6 a 14 años</td>\n",
       "      <td>NaN</td>\n",
       "      <td>NaN</td>\n",
       "      <td>NaN</td>\n",
       "      <td>NaN</td>\n",
       "      <td>...</td>\n",
       "      <td>NaN</td>\n",
       "      <td>NaN</td>\n",
       "      <td>Peruanos</td>\n",
       "      <td>NaN</td>\n",
       "      <td>Extranjeros</td>\n",
       "      <td>NaN</td>\n",
       "      <td>NaN</td>\n",
       "      <td>NaN</td>\n",
       "      <td>NaN</td>\n",
       "      <td>NaN</td>\n",
       "    </tr>\n",
       "    <tr>\n",
       "      <th>2</th>\n",
       "      <td>NaN</td>\n",
       "      <td>NaN</td>\n",
       "      <td>v.</td>\n",
       "      <td>M.</td>\n",
       "      <td>T.</td>\n",
       "      <td>V.</td>\n",
       "      <td>M.</td>\n",
       "      <td>T.</td>\n",
       "      <td>v.</td>\n",
       "      <td>M.</td>\n",
       "      <td>...</td>\n",
       "      <td>M.</td>\n",
       "      <td>T.</td>\n",
       "      <td>V.</td>\n",
       "      <td>M.</td>\n",
       "      <td>V.</td>\n",
       "      <td>M.</td>\n",
       "      <td>Blanca</td>\n",
       "      <td>Indígena</td>\n",
       "      <td>Mestiza</td>\n",
       "      <td>Negra</td>\n",
       "    </tr>\n",
       "    <tr>\n",
       "      <th>3</th>\n",
       "      <td>CIUDAD DEL CERRO</td>\n",
       "      <td>C.Ciudad del Cerro</td>\n",
       "      <td>65</td>\n",
       "      <td>46</td>\n",
       "      <td>111</td>\n",
       "      <td>297</td>\n",
       "      <td>171</td>\n",
       "      <td>468</td>\n",
       "      <td>158</td>\n",
       "      <td>74</td>\n",
       "      <td>...</td>\n",
       "      <td>209</td>\n",
       "      <td>544</td>\n",
       "      <td>361</td>\n",
       "      <td>216</td>\n",
       "      <td>1</td>\n",
       "      <td>1</td>\n",
       "      <td>4</td>\n",
       "      <td>284</td>\n",
       "      <td>290</td>\n",
       "      <td>1</td>\n",
       "    </tr>\n",
       "    <tr>\n",
       "      <th>4</th>\n",
       "      <td>CIUDAD DEL CERRO</td>\n",
       "      <td>P.Yanacancha</td>\n",
       "      <td>1</td>\n",
       "      <td>3</td>\n",
       "      <td>4</td>\n",
       "      <td>49</td>\n",
       "      <td>47</td>\n",
       "      <td>96</td>\n",
       "      <td>30</td>\n",
       "      <td>0</td>\n",
       "      <td>...</td>\n",
       "      <td>50</td>\n",
       "      <td>100</td>\n",
       "      <td>50</td>\n",
       "      <td>50</td>\n",
       "      <td>0</td>\n",
       "      <td>0</td>\n",
       "      <td>0</td>\n",
       "      <td>100</td>\n",
       "      <td>0</td>\n",
       "      <td>0</td>\n",
       "    </tr>\n",
       "    <tr>\n",
       "      <th>...</th>\n",
       "      <td>...</td>\n",
       "      <td>...</td>\n",
       "      <td>...</td>\n",
       "      <td>...</td>\n",
       "      <td>...</td>\n",
       "      <td>...</td>\n",
       "      <td>...</td>\n",
       "      <td>...</td>\n",
       "      <td>...</td>\n",
       "      <td>...</td>\n",
       "      <td>...</td>\n",
       "      <td>...</td>\n",
       "      <td>...</td>\n",
       "      <td>...</td>\n",
       "      <td>...</td>\n",
       "      <td>...</td>\n",
       "      <td>...</td>\n",
       "      <td>...</td>\n",
       "      <td>...</td>\n",
       "      <td>...</td>\n",
       "      <td>...</td>\n",
       "    </tr>\n",
       "    <tr>\n",
       "      <th>230</th>\n",
       "      <td>YAULI</td>\n",
       "      <td>P.Pomacocha</td>\n",
       "      <td>1</td>\n",
       "      <td>0</td>\n",
       "      <td>1</td>\n",
       "      <td>15</td>\n",
       "      <td>7</td>\n",
       "      <td>22</td>\n",
       "      <td>8</td>\n",
       "      <td>0</td>\n",
       "      <td>...</td>\n",
       "      <td>7</td>\n",
       "      <td>23</td>\n",
       "      <td>16</td>\n",
       "      <td>7</td>\n",
       "      <td>0</td>\n",
       "      <td>0</td>\n",
       "      <td>0</td>\n",
       "      <td>21</td>\n",
       "      <td>2</td>\n",
       "      <td>0</td>\n",
       "    </tr>\n",
       "    <tr>\n",
       "      <th>231</th>\n",
       "      <td>YAULI</td>\n",
       "      <td>Pachachaca</td>\n",
       "      <td>2</td>\n",
       "      <td>0</td>\n",
       "      <td>2</td>\n",
       "      <td>20</td>\n",
       "      <td>8</td>\n",
       "      <td>28</td>\n",
       "      <td>7</td>\n",
       "      <td>1</td>\n",
       "      <td>...</td>\n",
       "      <td>8</td>\n",
       "      <td>30</td>\n",
       "      <td>22</td>\n",
       "      <td>8</td>\n",
       "      <td>0</td>\n",
       "      <td>0</td>\n",
       "      <td>0</td>\n",
       "      <td>4</td>\n",
       "      <td>26</td>\n",
       "      <td>0</td>\n",
       "    </tr>\n",
       "    <tr>\n",
       "      <th>232</th>\n",
       "      <td>YAULI</td>\n",
       "      <td>Yauli</td>\n",
       "      <td>2</td>\n",
       "      <td>6</td>\n",
       "      <td>8</td>\n",
       "      <td>74</td>\n",
       "      <td>38</td>\n",
       "      <td>112</td>\n",
       "      <td>41</td>\n",
       "      <td>22</td>\n",
       "      <td>...</td>\n",
       "      <td>37</td>\n",
       "      <td>103</td>\n",
       "      <td>76</td>\n",
       "      <td>44</td>\n",
       "      <td>0</td>\n",
       "      <td>0</td>\n",
       "      <td>37</td>\n",
       "      <td>14</td>\n",
       "      <td>69</td>\n",
       "      <td>0</td>\n",
       "    </tr>\n",
       "    <tr>\n",
       "      <th>233</th>\n",
       "      <td>YAULI</td>\n",
       "      <td>Minas de Morococha</td>\n",
       "      <td>9</td>\n",
       "      <td>5</td>\n",
       "      <td>14</td>\n",
       "      <td>87</td>\n",
       "      <td>25</td>\n",
       "      <td>112</td>\n",
       "      <td>8</td>\n",
       "      <td>0</td>\n",
       "      <td>...</td>\n",
       "      <td>30</td>\n",
       "      <td>126</td>\n",
       "      <td>96</td>\n",
       "      <td>30</td>\n",
       "      <td>0</td>\n",
       "      <td>0</td>\n",
       "      <td>1</td>\n",
       "      <td>118</td>\n",
       "      <td>7</td>\n",
       "      <td>0</td>\n",
       "    </tr>\n",
       "    <tr>\n",
       "      <th>234</th>\n",
       "      <td>YAULI</td>\n",
       "      <td>Total</td>\n",
       "      <td>14</td>\n",
       "      <td>11</td>\n",
       "      <td>25</td>\n",
       "      <td>196</td>\n",
       "      <td>78</td>\n",
       "      <td>274</td>\n",
       "      <td>64</td>\n",
       "      <td>23</td>\n",
       "      <td>...</td>\n",
       "      <td>82</td>\n",
       "      <td>282</td>\n",
       "      <td>210</td>\n",
       "      <td>89</td>\n",
       "      <td>0</td>\n",
       "      <td>0</td>\n",
       "      <td>38</td>\n",
       "      <td>157</td>\n",
       "      <td>104</td>\n",
       "      <td>0</td>\n",
       "    </tr>\n",
       "  </tbody>\n",
       "</table>\n",
       "<p>235 rows × 40 columns</p>\n",
       "</div>"
      ],
      "text/plain": [
       "            DISTRITOS             LUGARES          EDADES Unnamed: 3  \\\n",
       "0                 NaN                 NaN             NaN        NaN   \n",
       "1                 NaN                 NaN  De 4 a 6 años         NaN   \n",
       "2                 NaN                 NaN              v.         M.   \n",
       "3    CIUDAD DEL CERRO  C.Ciudad del Cerro              65         46   \n",
       "4    CIUDAD DEL CERRO        P.Yanacancha               1          3   \n",
       "..                ...                 ...             ...        ...   \n",
       "230             YAULI         P.Pomacocha               1          0   \n",
       "231             YAULI          Pachachaca               2          0   \n",
       "232             YAULI               Yauli               2          6   \n",
       "233             YAULI  Minas de Morococha               9          5   \n",
       "234             YAULI               Total              14         11   \n",
       "\n",
       "    Unnamed: 4       Unnamed: 5 Unnamed: 6 Unnamed: 7 SABEN LEER  Unnamed: 9  \\\n",
       "0          NaN              NaN        NaN        NaN         NaN        NaN   \n",
       "1          NaN  De 6 a 14 años         NaN        NaN         NaN        NaN   \n",
       "2           T.               V.         M.         T.          v.         M.   \n",
       "3          111              297        171        468         158         74   \n",
       "4            4               49         47         96          30          0   \n",
       "..         ...              ...        ...        ...         ...        ...   \n",
       "230          1               15          7         22           8          0   \n",
       "231          2               20          8         28           7          1   \n",
       "232          8               74         38        112          41         22   \n",
       "233         14               87         25        112           8          0   \n",
       "234         25              196         78        274          64         23   \n",
       "\n",
       "     ... Unnamed: 30 Unnamed: 31 NACIONALIDAD Unnamed: 33  Unnamed: 34  \\\n",
       "0    ...         NaN         NaN          NaN         NaN          NaN   \n",
       "1    ...         NaN         NaN    Peruanos          NaN  Extranjeros   \n",
       "2    ...          M.          T.           V.         M.            V.   \n",
       "3    ...         209         544          361         216            1   \n",
       "4    ...          50         100           50          50            0   \n",
       "..   ...         ...         ...          ...         ...          ...   \n",
       "230  ...           7          23           16           7            0   \n",
       "231  ...           8          30           22           8            0   \n",
       "232  ...          37         103           76          44            0   \n",
       "233  ...          30         126           96          30            0   \n",
       "234  ...          82         282          210          89            0   \n",
       "\n",
       "    Unnamed: 35   RAZAS Unnamed: 37 Unnamed: 38 Unnamed: 39  \n",
       "0           NaN     NaN         NaN         NaN         NaN  \n",
       "1           NaN     NaN         NaN         NaN         NaN  \n",
       "2            M.  Blanca    Indígena     Mestiza       Negra  \n",
       "3             1       4         284         290           1  \n",
       "4             0       0         100           0           0  \n",
       "..          ...     ...         ...         ...         ...  \n",
       "230           0       0          21           2           0  \n",
       "231           0       0           4          26           0  \n",
       "232           0      37          14          69           0  \n",
       "233           0       1         118           7           0  \n",
       "234           0      38         157         104           0  \n",
       "\n",
       "[235 rows x 40 columns]"
      ]
     },
     "execution_count": 20,
     "metadata": {},
     "output_type": "execute_result"
    }
   ],
   "source": [
    "junin = pd.read_excel(r\"C:\\Users\\egonz\\Desktop\\LIMPIAR DATA/JUNIN_FINALIZADO.xlsx\")\n",
    "junin"
   ]
  }
 ],
 "metadata": {
  "kernelspec": {
   "display_name": "Python 3",
   "language": "python",
   "name": "python3"
  },
  "language_info": {
   "codemirror_mode": {
    "name": "ipython",
    "version": 3
   },
   "file_extension": ".py",
   "mimetype": "text/x-python",
   "name": "python",
   "nbconvert_exporter": "python",
   "pygments_lexer": "ipython3",
   "version": "3.8.5"
  }
 },
 "nbformat": 4,
 "nbformat_minor": 4
}
