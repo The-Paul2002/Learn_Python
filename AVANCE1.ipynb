{
 "cells": [
  {
   "cell_type": "markdown",
   "metadata": {},
   "source": [
    "### Hemos logrado crear un repositorio y aprenderemos a crear branchs"
   ]
  },
  {
   "cell_type": "code",
   "execution_count": 13,
   "metadata": {},
   "outputs": [
    {
     "name": "stdout",
     "output_type": "stream",
     "text": [
      "Enter Limit of series: 10\n",
      "0   1   1   2   3   5   8   13   21   34   55   89 "
     ]
    }
   ],
   "source": [
    "a = 0\n",
    "b = 1\n",
    "n = 1\n",
    "l = int(input(\"Enter Limit of series: \"))\n",
    "print(a, \" \" ,b , end=\" \")\n",
    "while n<=l:\n",
    "        val = a + b\n",
    "        print(\" \" , val, end=\" \")\n",
    "        a = b\n",
    "        b = val\n",
    "        n = n + 1\n"
   ]
  },
  {
   "cell_type": "code",
   "execution_count": 2,
   "metadata": {},
   "outputs": [
    {
     "data": {
      "text/plain": [
       "int"
      ]
     },
     "execution_count": 2,
     "metadata": {},
     "output_type": "execute_result"
    }
   ],
   "source": [
    "# TIPOS DE DATOS \n",
    "a = 5\n",
    "type(a)"
   ]
  },
  {
   "cell_type": "code",
   "execution_count": 3,
   "metadata": {},
   "outputs": [
    {
     "data": {
      "text/plain": [
       "float"
      ]
     },
     "execution_count": 3,
     "metadata": {},
     "output_type": "execute_result"
    }
   ],
   "source": [
    "a = 5.5\n",
    "type(a)"
   ]
  },
  {
   "cell_type": "code",
   "execution_count": 4,
   "metadata": {},
   "outputs": [
    {
     "name": "stdout",
     "output_type": "stream",
     "text": [
      "Valor de v1 = True y v2 = False\n"
     ]
    }
   ],
   "source": [
    "v1 = True\n",
    "v2 = False\n",
    "type(v1)\n",
    "\n",
    "print(f\"Valor de v1 = {v1} y v2 = {v2}\")"
   ]
  },
  {
   "cell_type": "code",
   "execution_count": 5,
   "metadata": {},
   "outputs": [
    {
     "data": {
      "text/plain": [
       "str"
      ]
     },
     "execution_count": 5,
     "metadata": {},
     "output_type": "execute_result"
    }
   ],
   "source": [
    "a1 = \"asfdadgfdgh\"\n",
    "type(a1)\n"
   ]
  },
  {
   "cell_type": "code",
   "execution_count": 6,
   "metadata": {},
   "outputs": [
    {
     "data": {
      "text/plain": [
       "True"
      ]
     },
     "execution_count": 6,
     "metadata": {},
     "output_type": "execute_result"
    }
   ],
   "source": [
    "'Hola' == 'Hola'\n"
   ]
  },
  {
   "cell_type": "code",
   "execution_count": 7,
   "metadata": {},
   "outputs": [
    {
     "data": {
      "text/plain": [
       "True"
      ]
     },
     "execution_count": 7,
     "metadata": {},
     "output_type": "execute_result"
    }
   ],
   "source": [
    "'Hola' != 'Adios'"
   ]
  },
  {
   "cell_type": "code",
   "execution_count": 8,
   "metadata": {},
   "outputs": [
    {
     "data": {
      "text/plain": [
       "True"
      ]
     },
     "execution_count": 8,
     "metadata": {},
     "output_type": "execute_result"
    }
   ],
   "source": [
    "# Menor o igual que\n",
    "1 <= 4"
   ]
  },
  {
   "cell_type": "code",
   "execution_count": 9,
   "metadata": {},
   "outputs": [
    {
     "data": {
      "text/plain": [
       "True"
      ]
     },
     "execution_count": 9,
     "metadata": {},
     "output_type": "execute_result"
    }
   ],
   "source": [
    "# Mayor o igual que\n",
    "1 >= 1 "
   ]
  },
  {
   "cell_type": "code",
   "execution_count": 10,
   "metadata": {
    "scrolled": true
   },
   "outputs": [
    {
     "data": {
      "text/plain": [
       "False"
      ]
     },
     "execution_count": 10,
     "metadata": {},
     "output_type": "execute_result"
    }
   ],
   "source": [
    "1 > 2 "
   ]
  },
  {
   "cell_type": "code",
   "execution_count": 11,
   "metadata": {},
   "outputs": [],
   "source": [
    " import pandas as pd "
   ]
  },
  {
   "cell_type": "code",
   "execution_count": 12,
   "metadata": {
    "scrolled": true
   },
   "outputs": [
    {
     "ename": "FileNotFoundError",
     "evalue": "[Errno 2] No such file or directory: 'C:\\\\Users\\\\egonz\\\\Desktop\\\\LIMPIAR DATA/JUNIN_FINALIZADO.xlsx'",
     "output_type": "error",
     "traceback": [
      "\u001b[1;31m---------------------------------------------------------------------------\u001b[0m",
      "\u001b[1;31mFileNotFoundError\u001b[0m                         Traceback (most recent call last)",
      "\u001b[1;32m<ipython-input-12-47433b796059>\u001b[0m in \u001b[0;36m<module>\u001b[1;34m\u001b[0m\n\u001b[1;32m----> 1\u001b[1;33m \u001b[0mjunin\u001b[0m \u001b[1;33m=\u001b[0m \u001b[0mpd\u001b[0m\u001b[1;33m.\u001b[0m\u001b[0mread_excel\u001b[0m\u001b[1;33m(\u001b[0m\u001b[1;34mr\"C:\\Users\\egonz\\Desktop\\LIMPIAR DATA/JUNIN_FINALIZADO.xlsx\"\u001b[0m\u001b[1;33m)\u001b[0m\u001b[1;33m\u001b[0m\u001b[1;33m\u001b[0m\u001b[0m\n\u001b[0m\u001b[0;32m      2\u001b[0m \u001b[0mjunin\u001b[0m\u001b[1;33m\u001b[0m\u001b[1;33m\u001b[0m\u001b[0m\n",
      "\u001b[1;32m~\\anaconda3\\lib\\site-packages\\pandas\\util\\_decorators.py\u001b[0m in \u001b[0;36mwrapper\u001b[1;34m(*args, **kwargs)\u001b[0m\n\u001b[0;32m    297\u001b[0m                 )\n\u001b[0;32m    298\u001b[0m                 \u001b[0mwarnings\u001b[0m\u001b[1;33m.\u001b[0m\u001b[0mwarn\u001b[0m\u001b[1;33m(\u001b[0m\u001b[0mmsg\u001b[0m\u001b[1;33m,\u001b[0m \u001b[0mFutureWarning\u001b[0m\u001b[1;33m,\u001b[0m \u001b[0mstacklevel\u001b[0m\u001b[1;33m=\u001b[0m\u001b[0mstacklevel\u001b[0m\u001b[1;33m)\u001b[0m\u001b[1;33m\u001b[0m\u001b[1;33m\u001b[0m\u001b[0m\n\u001b[1;32m--> 299\u001b[1;33m             \u001b[1;32mreturn\u001b[0m \u001b[0mfunc\u001b[0m\u001b[1;33m(\u001b[0m\u001b[1;33m*\u001b[0m\u001b[0margs\u001b[0m\u001b[1;33m,\u001b[0m \u001b[1;33m**\u001b[0m\u001b[0mkwargs\u001b[0m\u001b[1;33m)\u001b[0m\u001b[1;33m\u001b[0m\u001b[1;33m\u001b[0m\u001b[0m\n\u001b[0m\u001b[0;32m    300\u001b[0m \u001b[1;33m\u001b[0m\u001b[0m\n\u001b[0;32m    301\u001b[0m         \u001b[1;32mreturn\u001b[0m \u001b[0mwrapper\u001b[0m\u001b[1;33m\u001b[0m\u001b[1;33m\u001b[0m\u001b[0m\n",
      "\u001b[1;32m~\\anaconda3\\lib\\site-packages\\pandas\\io\\excel\\_base.py\u001b[0m in \u001b[0;36mread_excel\u001b[1;34m(io, sheet_name, header, names, index_col, usecols, squeeze, dtype, engine, converters, true_values, false_values, skiprows, nrows, na_values, keep_default_na, na_filter, verbose, parse_dates, date_parser, thousands, comment, skipfooter, convert_float, mangle_dupe_cols, storage_options)\u001b[0m\n\u001b[0;32m    334\u001b[0m     \u001b[1;32mif\u001b[0m \u001b[1;32mnot\u001b[0m \u001b[0misinstance\u001b[0m\u001b[1;33m(\u001b[0m\u001b[0mio\u001b[0m\u001b[1;33m,\u001b[0m \u001b[0mExcelFile\u001b[0m\u001b[1;33m)\u001b[0m\u001b[1;33m:\u001b[0m\u001b[1;33m\u001b[0m\u001b[1;33m\u001b[0m\u001b[0m\n\u001b[0;32m    335\u001b[0m         \u001b[0mshould_close\u001b[0m \u001b[1;33m=\u001b[0m \u001b[1;32mTrue\u001b[0m\u001b[1;33m\u001b[0m\u001b[1;33m\u001b[0m\u001b[0m\n\u001b[1;32m--> 336\u001b[1;33m         \u001b[0mio\u001b[0m \u001b[1;33m=\u001b[0m \u001b[0mExcelFile\u001b[0m\u001b[1;33m(\u001b[0m\u001b[0mio\u001b[0m\u001b[1;33m,\u001b[0m \u001b[0mstorage_options\u001b[0m\u001b[1;33m=\u001b[0m\u001b[0mstorage_options\u001b[0m\u001b[1;33m,\u001b[0m \u001b[0mengine\u001b[0m\u001b[1;33m=\u001b[0m\u001b[0mengine\u001b[0m\u001b[1;33m)\u001b[0m\u001b[1;33m\u001b[0m\u001b[1;33m\u001b[0m\u001b[0m\n\u001b[0m\u001b[0;32m    337\u001b[0m     \u001b[1;32melif\u001b[0m \u001b[0mengine\u001b[0m \u001b[1;32mand\u001b[0m \u001b[0mengine\u001b[0m \u001b[1;33m!=\u001b[0m \u001b[0mio\u001b[0m\u001b[1;33m.\u001b[0m\u001b[0mengine\u001b[0m\u001b[1;33m:\u001b[0m\u001b[1;33m\u001b[0m\u001b[1;33m\u001b[0m\u001b[0m\n\u001b[0;32m    338\u001b[0m         raise ValueError(\n",
      "\u001b[1;32m~\\anaconda3\\lib\\site-packages\\pandas\\io\\excel\\_base.py\u001b[0m in \u001b[0;36m__init__\u001b[1;34m(self, path_or_buffer, engine, storage_options)\u001b[0m\n\u001b[0;32m   1069\u001b[0m                 \u001b[0mext\u001b[0m \u001b[1;33m=\u001b[0m \u001b[1;34m\"xls\"\u001b[0m\u001b[1;33m\u001b[0m\u001b[1;33m\u001b[0m\u001b[0m\n\u001b[0;32m   1070\u001b[0m             \u001b[1;32melse\u001b[0m\u001b[1;33m:\u001b[0m\u001b[1;33m\u001b[0m\u001b[1;33m\u001b[0m\u001b[0m\n\u001b[1;32m-> 1071\u001b[1;33m                 ext = inspect_excel_format(\n\u001b[0m\u001b[0;32m   1072\u001b[0m                     \u001b[0mcontent\u001b[0m\u001b[1;33m=\u001b[0m\u001b[0mpath_or_buffer\u001b[0m\u001b[1;33m,\u001b[0m \u001b[0mstorage_options\u001b[0m\u001b[1;33m=\u001b[0m\u001b[0mstorage_options\u001b[0m\u001b[1;33m\u001b[0m\u001b[1;33m\u001b[0m\u001b[0m\n\u001b[0;32m   1073\u001b[0m                 )\n",
      "\u001b[1;32m~\\anaconda3\\lib\\site-packages\\pandas\\io\\excel\\_base.py\u001b[0m in \u001b[0;36minspect_excel_format\u001b[1;34m(path, content, storage_options)\u001b[0m\n\u001b[0;32m    947\u001b[0m     \u001b[1;32massert\u001b[0m \u001b[0mcontent_or_path\u001b[0m \u001b[1;32mis\u001b[0m \u001b[1;32mnot\u001b[0m \u001b[1;32mNone\u001b[0m\u001b[1;33m\u001b[0m\u001b[1;33m\u001b[0m\u001b[0m\n\u001b[0;32m    948\u001b[0m \u001b[1;33m\u001b[0m\u001b[0m\n\u001b[1;32m--> 949\u001b[1;33m     with get_handle(\n\u001b[0m\u001b[0;32m    950\u001b[0m         \u001b[0mcontent_or_path\u001b[0m\u001b[1;33m,\u001b[0m \u001b[1;34m\"rb\"\u001b[0m\u001b[1;33m,\u001b[0m \u001b[0mstorage_options\u001b[0m\u001b[1;33m=\u001b[0m\u001b[0mstorage_options\u001b[0m\u001b[1;33m,\u001b[0m \u001b[0mis_text\u001b[0m\u001b[1;33m=\u001b[0m\u001b[1;32mFalse\u001b[0m\u001b[1;33m\u001b[0m\u001b[1;33m\u001b[0m\u001b[0m\n\u001b[0;32m    951\u001b[0m     ) as handle:\n",
      "\u001b[1;32m~\\anaconda3\\lib\\site-packages\\pandas\\io\\common.py\u001b[0m in \u001b[0;36mget_handle\u001b[1;34m(path_or_buf, mode, encoding, compression, memory_map, is_text, errors, storage_options)\u001b[0m\n\u001b[0;32m    649\u001b[0m         \u001b[1;32melse\u001b[0m\u001b[1;33m:\u001b[0m\u001b[1;33m\u001b[0m\u001b[1;33m\u001b[0m\u001b[0m\n\u001b[0;32m    650\u001b[0m             \u001b[1;31m# Binary mode\u001b[0m\u001b[1;33m\u001b[0m\u001b[1;33m\u001b[0m\u001b[1;33m\u001b[0m\u001b[0m\n\u001b[1;32m--> 651\u001b[1;33m             \u001b[0mhandle\u001b[0m \u001b[1;33m=\u001b[0m \u001b[0mopen\u001b[0m\u001b[1;33m(\u001b[0m\u001b[0mhandle\u001b[0m\u001b[1;33m,\u001b[0m \u001b[0mioargs\u001b[0m\u001b[1;33m.\u001b[0m\u001b[0mmode\u001b[0m\u001b[1;33m)\u001b[0m\u001b[1;33m\u001b[0m\u001b[1;33m\u001b[0m\u001b[0m\n\u001b[0m\u001b[0;32m    652\u001b[0m         \u001b[0mhandles\u001b[0m\u001b[1;33m.\u001b[0m\u001b[0mappend\u001b[0m\u001b[1;33m(\u001b[0m\u001b[0mhandle\u001b[0m\u001b[1;33m)\u001b[0m\u001b[1;33m\u001b[0m\u001b[1;33m\u001b[0m\u001b[0m\n\u001b[0;32m    653\u001b[0m \u001b[1;33m\u001b[0m\u001b[0m\n",
      "\u001b[1;31mFileNotFoundError\u001b[0m: [Errno 2] No such file or directory: 'C:\\\\Users\\\\egonz\\\\Desktop\\\\LIMPIAR DATA/JUNIN_FINALIZADO.xlsx'"
     ]
    }
   ],
   "source": [
    "junin = pd.read_excel(r\"C:\\Users\\egonz\\Desktop\\LIMPIAR DATA/JUNIN_FINALIZADO.xlsx\")\n",
    "junin"
   ]
  },
  {
   "cell_type": "code",
   "execution_count": 16,
   "metadata": {},
   "outputs": [],
   "source": [
    " import pandas as pd \n",
    "    "
   ]
  },
  {
   "cell_type": "code",
   "execution_count": 20,
   "metadata": {
    "scrolled": true
   },
   "outputs": [
    {
     "data": {
      "text/html": [
       "<div>\n",
       "<style scoped>\n",
       "    .dataframe tbody tr th:only-of-type {\n",
       "        vertical-align: middle;\n",
       "    }\n",
       "\n",
       "    .dataframe tbody tr th {\n",
       "        vertical-align: top;\n",
       "    }\n",
       "\n",
       "    .dataframe thead th {\n",
       "        text-align: right;\n",
       "    }\n",
       "</style>\n",
       "<table border=\"1\" class=\"dataframe\">\n",
       "  <thead>\n",
       "    <tr style=\"text-align: right;\">\n",
       "      <th></th>\n",
       "      <th>DISTRITOS</th>\n",
       "      <th>LUGARES</th>\n",
       "      <th>EDADES</th>\n",
       "      <th>Unnamed: 3</th>\n",
       "      <th>Unnamed: 4</th>\n",
       "      <th>Unnamed: 5</th>\n",
       "      <th>Unnamed: 6</th>\n",
       "      <th>Unnamed: 7</th>\n",
       "      <th>SABEN LEER</th>\n",
       "      <th>Unnamed: 9</th>\n",
       "      <th>...</th>\n",
       "      <th>Unnamed: 30</th>\n",
       "      <th>Unnamed: 31</th>\n",
       "      <th>NACIONALIDAD</th>\n",
       "      <th>Unnamed: 33</th>\n",
       "      <th>Unnamed: 34</th>\n",
       "      <th>Unnamed: 35</th>\n",
       "      <th>RAZAS</th>\n",
       "      <th>Unnamed: 37</th>\n",
       "      <th>Unnamed: 38</th>\n",
       "      <th>Unnamed: 39</th>\n",
       "    </tr>\n",
       "  </thead>\n",
       "  <tbody>\n",
       "    <tr>\n",
       "      <th>0</th>\n",
       "      <td>NaN</td>\n",
       "      <td>NaN</td>\n",
       "      <td>NaN</td>\n",
       "      <td>NaN</td>\n",
       "      <td>NaN</td>\n",
       "      <td>NaN</td>\n",
       "      <td>NaN</td>\n",
       "      <td>NaN</td>\n",
       "      <td>NaN</td>\n",
       "      <td>NaN</td>\n",
       "      <td>...</td>\n",
       "      <td>NaN</td>\n",
       "      <td>NaN</td>\n",
       "      <td>NaN</td>\n",
       "      <td>NaN</td>\n",
       "      <td>NaN</td>\n",
       "      <td>NaN</td>\n",
       "      <td>NaN</td>\n",
       "      <td>NaN</td>\n",
       "      <td>NaN</td>\n",
       "      <td>NaN</td>\n",
       "    </tr>\n",
       "    <tr>\n",
       "      <th>1</th>\n",
       "      <td>NaN</td>\n",
       "      <td>NaN</td>\n",
       "      <td>De 4 a 6 años</td>\n",
       "      <td>NaN</td>\n",
       "      <td>NaN</td>\n",
       "      <td>De 6 a 14 años</td>\n",
       "      <td>NaN</td>\n",
       "      <td>NaN</td>\n",
       "      <td>NaN</td>\n",
       "      <td>NaN</td>\n",
       "      <td>...</td>\n",
       "      <td>NaN</td>\n",
       "      <td>NaN</td>\n",
       "      <td>Peruanos</td>\n",
       "      <td>NaN</td>\n",
       "      <td>Extranjeros</td>\n",
       "      <td>NaN</td>\n",
       "      <td>NaN</td>\n",
       "      <td>NaN</td>\n",
       "      <td>NaN</td>\n",
       "      <td>NaN</td>\n",
       "    </tr>\n",
       "    <tr>\n",
       "      <th>2</th>\n",
       "      <td>NaN</td>\n",
       "      <td>NaN</td>\n",
       "      <td>v.</td>\n",
       "      <td>M.</td>\n",
       "      <td>T.</td>\n",
       "      <td>V.</td>\n",
       "      <td>M.</td>\n",
       "      <td>T.</td>\n",
       "      <td>v.</td>\n",
       "      <td>M.</td>\n",
       "      <td>...</td>\n",
       "      <td>M.</td>\n",
       "      <td>T.</td>\n",
       "      <td>V.</td>\n",
       "      <td>M.</td>\n",
       "      <td>V.</td>\n",
       "      <td>M.</td>\n",
       "      <td>Blanca</td>\n",
       "      <td>Indígena</td>\n",
       "      <td>Mestiza</td>\n",
       "      <td>Negra</td>\n",
       "    </tr>\n",
       "    <tr>\n",
       "      <th>3</th>\n",
       "      <td>LIMA</td>\n",
       "      <td>Cuartel 10</td>\n",
       "      <td>396</td>\n",
       "      <td>405</td>\n",
       "      <td>801</td>\n",
       "      <td>1707</td>\n",
       "      <td>1739</td>\n",
       "      <td>3446</td>\n",
       "      <td>1319</td>\n",
       "      <td>1299</td>\n",
       "      <td>...</td>\n",
       "      <td>1779</td>\n",
       "      <td>3536</td>\n",
       "      <td>2062</td>\n",
       "      <td>2013</td>\n",
       "      <td>41</td>\n",
       "      <td>131</td>\n",
       "      <td>2125</td>\n",
       "      <td>946</td>\n",
       "      <td>1112</td>\n",
       "      <td>164</td>\n",
       "    </tr>\n",
       "    <tr>\n",
       "      <th>4</th>\n",
       "      <td>LIMA</td>\n",
       "      <td>Cuartel 20</td>\n",
       "      <td>423</td>\n",
       "      <td>423</td>\n",
       "      <td>846</td>\n",
       "      <td>1752</td>\n",
       "      <td>1979</td>\n",
       "      <td>3731</td>\n",
       "      <td>1227</td>\n",
       "      <td>1249</td>\n",
       "      <td>...</td>\n",
       "      <td>2168</td>\n",
       "      <td>4104</td>\n",
       "      <td>2115</td>\n",
       "      <td>2296</td>\n",
       "      <td>60</td>\n",
       "      <td>106</td>\n",
       "      <td>1789</td>\n",
       "      <td>1141</td>\n",
       "      <td>1448</td>\n",
       "      <td>199</td>\n",
       "    </tr>\n",
       "    <tr>\n",
       "      <th>...</th>\n",
       "      <td>...</td>\n",
       "      <td>...</td>\n",
       "      <td>...</td>\n",
       "      <td>...</td>\n",
       "      <td>...</td>\n",
       "      <td>...</td>\n",
       "      <td>...</td>\n",
       "      <td>...</td>\n",
       "      <td>...</td>\n",
       "      <td>...</td>\n",
       "      <td>...</td>\n",
       "      <td>...</td>\n",
       "      <td>...</td>\n",
       "      <td>...</td>\n",
       "      <td>...</td>\n",
       "      <td>...</td>\n",
       "      <td>...</td>\n",
       "      <td>...</td>\n",
       "      <td>...</td>\n",
       "      <td>...</td>\n",
       "      <td>...</td>\n",
       "    </tr>\n",
       "    <tr>\n",
       "      <th>367</th>\n",
       "      <td>SAN LUIS</td>\n",
       "      <td>Casa blanca</td>\n",
       "      <td>3</td>\n",
       "      <td>2</td>\n",
       "      <td>5</td>\n",
       "      <td>17</td>\n",
       "      <td>8</td>\n",
       "      <td>25</td>\n",
       "      <td>6</td>\n",
       "      <td>3</td>\n",
       "      <td>...</td>\n",
       "      <td>10</td>\n",
       "      <td>30</td>\n",
       "      <td>20</td>\n",
       "      <td>10</td>\n",
       "      <td>0</td>\n",
       "      <td>0</td>\n",
       "      <td>1</td>\n",
       "      <td>7</td>\n",
       "      <td>17</td>\n",
       "      <td>5</td>\n",
       "    </tr>\n",
       "    <tr>\n",
       "      <th>368</th>\n",
       "      <td>SAN LUIS</td>\n",
       "      <td>San Juan de Arona</td>\n",
       "      <td>8</td>\n",
       "      <td>7</td>\n",
       "      <td>15</td>\n",
       "      <td>37</td>\n",
       "      <td>36</td>\n",
       "      <td>73</td>\n",
       "      <td>1</td>\n",
       "      <td>2</td>\n",
       "      <td>...</td>\n",
       "      <td>43</td>\n",
       "      <td>88</td>\n",
       "      <td>45</td>\n",
       "      <td>43</td>\n",
       "      <td>0</td>\n",
       "      <td>0</td>\n",
       "      <td>0</td>\n",
       "      <td>24</td>\n",
       "      <td>10</td>\n",
       "      <td>54</td>\n",
       "    </tr>\n",
       "    <tr>\n",
       "      <th>369</th>\n",
       "      <td>SAN LUIS</td>\n",
       "      <td>Santa Bárbara</td>\n",
       "      <td>1</td>\n",
       "      <td>10</td>\n",
       "      <td>11</td>\n",
       "      <td>27</td>\n",
       "      <td>19</td>\n",
       "      <td>46</td>\n",
       "      <td>3</td>\n",
       "      <td>7</td>\n",
       "      <td>...</td>\n",
       "      <td>29</td>\n",
       "      <td>63</td>\n",
       "      <td>34</td>\n",
       "      <td>29</td>\n",
       "      <td>0</td>\n",
       "      <td>0</td>\n",
       "      <td>0</td>\n",
       "      <td>20</td>\n",
       "      <td>30</td>\n",
       "      <td>13</td>\n",
       "    </tr>\n",
       "    <tr>\n",
       "      <th>370</th>\n",
       "      <td>SAN LUIS</td>\n",
       "      <td>Huaca</td>\n",
       "      <td>5</td>\n",
       "      <td>4</td>\n",
       "      <td>9</td>\n",
       "      <td>17</td>\n",
       "      <td>10</td>\n",
       "      <td>27</td>\n",
       "      <td>3</td>\n",
       "      <td>1</td>\n",
       "      <td>...</td>\n",
       "      <td>14</td>\n",
       "      <td>36</td>\n",
       "      <td>22</td>\n",
       "      <td>14</td>\n",
       "      <td>0</td>\n",
       "      <td>0</td>\n",
       "      <td>0</td>\n",
       "      <td>8</td>\n",
       "      <td>16</td>\n",
       "      <td>12</td>\n",
       "    </tr>\n",
       "    <tr>\n",
       "      <th>371</th>\n",
       "      <td>SAN LUIS</td>\n",
       "      <td>Total</td>\n",
       "      <td>82</td>\n",
       "      <td>69</td>\n",
       "      <td>151</td>\n",
       "      <td>299</td>\n",
       "      <td>247</td>\n",
       "      <td>546</td>\n",
       "      <td>84</td>\n",
       "      <td>67</td>\n",
       "      <td>...</td>\n",
       "      <td>287</td>\n",
       "      <td>646</td>\n",
       "      <td>387</td>\n",
       "      <td>316</td>\n",
       "      <td>0</td>\n",
       "      <td>0</td>\n",
       "      <td>24</td>\n",
       "      <td>431</td>\n",
       "      <td>147</td>\n",
       "      <td>101</td>\n",
       "    </tr>\n",
       "  </tbody>\n",
       "</table>\n",
       "<p>372 rows × 40 columns</p>\n",
       "</div>"
      ],
      "text/plain": [
       "    DISTRITOS            LUGARES          EDADES Unnamed: 3 Unnamed: 4  \\\n",
       "0         NaN                NaN             NaN        NaN        NaN   \n",
       "1         NaN                NaN  De 4 a 6 años         NaN        NaN   \n",
       "2         NaN                NaN              v.         M.         T.   \n",
       "3        LIMA         Cuartel 10             396        405        801   \n",
       "4        LIMA         Cuartel 20             423        423        846   \n",
       "..        ...                ...             ...        ...        ...   \n",
       "367  SAN LUIS        Casa blanca               3          2          5   \n",
       "368  SAN LUIS  San Juan de Arona               8          7         15   \n",
       "369  SAN LUIS      Santa Bárbara               1         10         11   \n",
       "370  SAN LUIS              Huaca               5          4          9   \n",
       "371  SAN LUIS              Total              82         69        151   \n",
       "\n",
       "          Unnamed: 5 Unnamed: 6 Unnamed: 7 SABEN LEER  Unnamed: 9  ...  \\\n",
       "0                NaN        NaN        NaN         NaN        NaN  ...   \n",
       "1    De 6 a 14 años         NaN        NaN         NaN        NaN  ...   \n",
       "2                 V.         M.         T.          v.         M.  ...   \n",
       "3               1707       1739       3446        1319       1299  ...   \n",
       "4               1752       1979       3731        1227       1249  ...   \n",
       "..               ...        ...        ...         ...        ...  ...   \n",
       "367               17          8         25           6          3  ...   \n",
       "368               37         36         73           1          2  ...   \n",
       "369               27         19         46           3          7  ...   \n",
       "370               17         10         27           3          1  ...   \n",
       "371              299        247        546          84         67  ...   \n",
       "\n",
       "    Unnamed: 30 Unnamed: 31 NACIONALIDAD Unnamed: 33  Unnamed: 34 Unnamed: 35  \\\n",
       "0           NaN         NaN          NaN         NaN          NaN         NaN   \n",
       "1           NaN         NaN    Peruanos          NaN  Extranjeros         NaN   \n",
       "2            M.          T.           V.         M.            V.          M.   \n",
       "3          1779        3536         2062        2013           41         131   \n",
       "4          2168        4104         2115        2296           60         106   \n",
       "..          ...         ...          ...         ...          ...         ...   \n",
       "367          10          30           20          10            0           0   \n",
       "368          43          88           45          43            0           0   \n",
       "369          29          63           34          29            0           0   \n",
       "370          14          36           22          14            0           0   \n",
       "371         287         646          387         316            0           0   \n",
       "\n",
       "      RAZAS Unnamed: 37 Unnamed: 38 Unnamed: 39  \n",
       "0       NaN         NaN         NaN         NaN  \n",
       "1       NaN         NaN         NaN         NaN  \n",
       "2    Blanca    Indígena     Mestiza       Negra  \n",
       "3      2125         946        1112         164  \n",
       "4      1789        1141        1448         199  \n",
       "..      ...         ...         ...         ...  \n",
       "367       1           7          17           5  \n",
       "368       0          24          10          54  \n",
       "369       0          20          30          13  \n",
       "370       0           8          16          12  \n",
       "371      24         431         147         101  \n",
       "\n",
       "[372 rows x 40 columns]"
      ]
     },
     "execution_count": 20,
     "metadata": {},
     "output_type": "execute_result"
    }
   ],
   "source": [
    "LIMA = pd.read_excel(r\"C:\\Users\\admin\\Downloads/LIMA_FINALIZADO.xlsx\")\n",
    "LIMA"
   ]
  },
  {
   "cell_type": "code",
   "execution_count": 2,
   "metadata": {},
   "outputs": [
    {
     "name": "stdout",
     "output_type": "stream",
     "text": [
      "                erin,Kath           in,Kather               \n",
      "            Katherin,Katherin   therin,Katherin,K           \n",
      "          n,Katherin,Katherin,Katherin,Katherin,Kat         \n",
      "         in,Katherin,Katherin,Katherin,Katherin,Kath        \n",
      "        rin,Katherin,Katherin,Katherin,Katherin,Kathe       \n",
      "        rin,Katherin,Katherin,Katherin,Katherin,Kathe       \n",
      "        rin,Katherin,Katherin,Katherin,Katherin,Kathe       \n",
      "        rin,Katherin,Katherin,Katherin,Katherin,Kathe       \n",
      "        rin,Katherin,Katherin,Katherin,Katherin,Kathe       \n",
      "        rin,Katherin,Katherin,Katherin,Katherin,Kathe       \n",
      "         in,Katherin,Katherin,Katherin,Katherin,Kath        \n",
      "          n,Katherin,Katherin,Katherin,Katherin,Kat         \n",
      "          n,Katherin,Katherin,Katherin,Katherin,Kat         \n",
      "            Katherin,Katherin,Katherin,Katherin,K           \n",
      "             atherin,Katherin,Katherin,Katherin,            \n",
      "              therin,Katherin,Katherin,Katherin             \n",
      "                erin,Katherin,Katherin,Kather               \n",
      "                  in,Katherin,Katherin,Kath                 \n",
      "                    ,Katherin,Katherin,Ka                   \n",
      "                       therin,Katherin                      \n",
      "                          rin,Kathe                         \n",
      "                             ,Ka                            \n",
      "                              K                             \n",
      "                                                            \n",
      "                jorateMej           teMejorat               \n",
      "            teMejorateMejorat   jorateMejorateMej           \n",
      "          rateMejorateMejorateMejorateMejorateMejor         \n",
      "         orateMejorateMejorateMejorateMejorateMejora        \n",
      "        jorateMejorateMejorateMejorateMejorateMejorat       \n",
      "        jorateMejorateMejorateMejorateMejorateMejorat       \n",
      "        jorateMejorateMejorateMejorateMejorateMejorat       \n",
      "        jorateMejorateMejorateMejorateMejorateMejorat       \n",
      "        jorateMejorateMejorateMejorateMejorateMejorat       \n",
      "        jorateMejorateMejorateMejorateMejorateMejorat       \n",
      "         orateMejorateMejorateMejorateMejorateMejora        \n",
      "          rateMejorateMejorateMejorateMejorateMejor         \n",
      "          rateMejorateMejorateMejorateMejorateMejor         \n",
      "            teMejorateMejorateMejorateMejorateMej           \n",
      "             eMejorateMejorateMejorateMejorateMe            \n",
      "              MejorateMejorateMejorateMejorateM             \n",
      "                jorateMejorateMejorateMejorat               \n",
      "                  rateMejorateMejorateMejor                 \n",
      "                    teMejorateMejorateMej                   \n",
      "                       ejorateMejorate                      \n",
      "                          rateMejor                         \n",
      "                             eMe                            \n",
      "                              M                             \n",
      "                                                            \n",
      "                pronto!pr           !pronto!p               \n",
      "            nto!pronto!pronto   onto!pronto!pront           \n",
      "          ronto!pronto!pronto!pronto!pronto!pronto!         \n",
      "         pronto!pronto!pronto!pronto!pronto!pronto!p        \n",
      "        !pronto!pronto!pronto!pronto!pronto!pronto!pr       \n",
      "        !pronto!pronto!pronto!pronto!pronto!pronto!pr       \n",
      "        !pronto!pronto!pronto!pronto!pronto!pronto!pr       \n",
      "        !pronto!pronto!pronto!pronto!pronto!pronto!pr       \n",
      "        !pronto!pronto!pronto!pronto!pronto!pronto!pr       \n",
      "        !pronto!pronto!pronto!pronto!pronto!pronto!pr       \n",
      "         pronto!pronto!pronto!pronto!pronto!pronto!p        \n",
      "          ronto!pronto!pronto!pronto!pronto!pronto!         \n",
      "          ronto!pronto!pronto!pronto!pronto!pronto!         \n",
      "            nto!pronto!pronto!pronto!pronto!pront           \n",
      "             to!pronto!pronto!pronto!pronto!pron            \n",
      "              o!pronto!pronto!pronto!pronto!pro             \n",
      "                pronto!pronto!pronto!pronto!p               \n",
      "                  onto!pronto!pronto!pronto                 \n",
      "                    to!pronto!pronto!pron                   \n",
      "                       pronto!pronto!p                      \n",
      "                          nto!pront                         \n",
      "                             !pr                            \n",
      "                              p                             \n",
      "                                                            \n"
     ]
    }
   ],
   "source": [
    "import time\n",
    "sentence = \"Katherin, Mejorate pronto!\"\n",
    "for char in sentence.split():\n",
    "   allChar = []\n",
    "   for y in range(12, -12, -1):\n",
    "       lst = []\n",
    "       lst_con = ''\n",
    "       for x in range(-30, 30):\n",
    "            formula = ((x*0.05)**2+(y*0.1)**2-1)**3-(x*0.05)**2*(y*0.1)**3\n",
    "            if formula <= 0:\n",
    "                lst_con += char[(x) % len(char)]\n",
    "            else:\n",
    "                lst_con += ' '\n",
    "       lst.append(lst_con)\n",
    "       allChar += lst\n",
    "   print('\\n'.join(allChar))\n",
    "   time.sleep(1)"
   ]
  },
  {
   "cell_type": "code",
   "execution_count": null,
   "metadata": {},
   "outputs": [],
   "source": []
  },
  {
   "cell_type": "code",
   "execution_count": null,
   "metadata": {},
   "outputs": [],
   "source": []
  }
 ],
 "metadata": {
  "kernelspec": {
   "display_name": "Python 3",
   "language": "python",
   "name": "python3"
  },
  "language_info": {
   "codemirror_mode": {
    "name": "ipython",
    "version": 3
   },
   "file_extension": ".py",
   "mimetype": "text/x-python",
   "name": "python",
   "nbconvert_exporter": "python",
   "pygments_lexer": "ipython3",
   "version": "3.8.5"
  }
 },
 "nbformat": 4,
 "nbformat_minor": 4
}
