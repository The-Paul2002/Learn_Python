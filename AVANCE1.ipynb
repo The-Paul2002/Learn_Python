{
 "cells": [
  {
   "cell_type": "markdown",
   "metadata": {},
   "source": [
    "### Hemos logrado crear un repositorio y aprenderemos a crear branchs"
   ]
  },
  {
   "cell_type": "code",
   "execution_count": 2,
   "metadata": {},
   "outputs": [
    {
     "name": "stdout",
     "output_type": "stream",
     "text": [
      "Enter Limit of series: 10\n",
      "0   1   1   2   3   5   8   13   21   34   55   89 "
     ]
    }
   ],
   "source": [
    "a = 0\n",
    "b = 1\n",
    "n = 1\n",
    "l = int(input(\"Enter Limit of series: \"))\n",
    "print(a, \" \" ,b , end=\" \")\n",
    "while n<=l:\n",
    "        val = a + b\n",
    "        print(\" \" , val, end=\" \")\n",
    "        a = b\n",
    "        b = val\n",
    "        n = n + 1\n"
   ]
  }
 ],
 "metadata": {
  "kernelspec": {
   "display_name": "Python 3",
   "language": "python",
   "name": "python3"
  },
  "language_info": {
   "codemirror_mode": {
    "name": "ipython",
    "version": 3
   },
   "file_extension": ".py",
   "mimetype": "text/x-python",
   "name": "python",
   "nbconvert_exporter": "python",
   "pygments_lexer": "ipython3",
   "version": "3.8.8"
  }
 },
 "nbformat": 4,
 "nbformat_minor": 4
}
